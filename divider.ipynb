{
 "cells": [
  {
   "cell_type": "code",
   "execution_count": 3,
   "id": "131c0fa5-c3f2-415f-b973-90abd57f2aac",
   "metadata": {},
   "outputs": [],
   "source": [
    "import os\n",
    "import numpy as np\n",
    "from sklearn.model_selection import train_test_split\n",
    "import cv2  # 使用 OpenCV 读取图片"
   ]
  },
  {
   "cell_type": "code",
   "execution_count": 5,
   "id": "9dbb3f3c-139f-4444-b94e-5e0a27bbc967",
   "metadata": {},
   "outputs": [],
   "source": [
    "# 设置图片文件夹路径和标签文件路径\n",
    "image_folder = 'origindata/ImageData'\n",
    "label_file = 'dataset/sexlable.txt'"
   ]
  },
  {
   "cell_type": "code",
   "execution_count": 7,
   "id": "b38159d6-b109-4f90-a691-be086ff94e58",
   "metadata": {},
   "outputs": [],
   "source": [
    "# 读取标签文件，假设每行存储一个标签，对应顺序的图片\n",
    "with open(label_file, 'r') as f:\n",
    "    labels = [int(line.strip()) for line in f.readlines()]  # 读取所有标签\n",
    "\n",
    "# 确保标签数量和图片数量一致\n",
    "num_images = len(labels)\n",
    "image_paths = [os.path.join(image_folder, f\"{i:06d}.jpg\") for i in range(1, num_images+1)]"
   ]
  },
  {
   "cell_type": "code",
   "execution_count": 11,
   "id": "959860c6-c18f-4f73-938a-b61622b2ad40",
   "metadata": {},
   "outputs": [],
   "source": [
    "# 初始化图片列表\n",
    "images = []\n",
    "\n",
    "# 遍历图片路径并读取图片\n",
    "for image_path in image_paths:\n",
    "    img = cv2.imread(image_path)  # 读取图片\n",
    "    if img is not None:\n",
    "        images.append(img)  # 添加到图片列表\n",
    "\n",
    "# 转换为 NumPy 数组\n",
    "images = np.array(images)\n",
    "labels = np.array(labels)\n",
    "\n",
    "# 划分数据集，80% 作为训练集，20% 作为测试集\n",
    "X_train, X_test, y_train, y_test = train_test_split(images, labels, test_size=0.2, random_state=42)"
   ]
  },
  {
   "cell_type": "code",
   "execution_count": 25,
   "id": "a3944c86-bdbf-4e47-8764-937797bffa57",
   "metadata": {},
   "outputs": [],
   "source": [
    "#保存位置\n",
    "train_image_folder = 'dataset/traindata/train_image'\n",
    "test_image_folder = 'dataset/testdata/test_image'\n",
    "train_label_folder = 'dataset/traindata'\n",
    "test_label_folder = 'dataset/testdata'"
   ]
  },
  {
   "cell_type": "code",
   "execution_count": 27,
   "id": "690a3be2-51c5-482f-8a0a-416a31ea9602",
   "metadata": {},
   "outputs": [],
   "source": [
    "os.makedirs(train_image_folder, exist_ok=True)\n",
    "os.makedirs(test_image_folder, exist_ok=True)\n",
    "os.makedirs(train_label_folder, exist_ok=True)\n",
    "os.makedirs(test_label_folder, exist_ok=True)"
   ]
  },
  {
   "cell_type": "code",
   "execution_count": 33,
   "id": "029f0c12-43fa-4367-8baa-e30e1d491001",
   "metadata": {},
   "outputs": [],
   "source": [
    "# 保存训练集图片和所有标签到同一个文件\n",
    "with open(os.path.join(train_label_folder, 'train_labels.txt'), 'w') as train_label_file:\n",
    "    for i, img in enumerate(X_train):\n",
    "        # 保存图片到训练集文件夹\n",
    "        image_filename = os.path.join(train_image_folder, f\"train_{i + 1:06d}.jpg\")\n",
    "        cv2.imwrite(image_filename, img)  # 保存图片\n",
    "        \n",
    "        # 将标签保存到训练集标签文件中\n",
    "        train_label_file.write(f\"{y_train[i]}\\n\")  # 每个标签占一行"
   ]
  },
  {
   "cell_type": "code",
   "execution_count": 29,
   "id": "b5a96efa-1d51-425b-8be7-4f82b7e3029c",
   "metadata": {},
   "outputs": [],
   "source": [
    "# 保存测试集图片和所有标签到同一个文件\n",
    "with open(os.path.join(test_label_folder, 'test_labels.txt'), 'w') as test_label_file:\n",
    "    for i, img in enumerate(X_test):\n",
    "        # 保存图片到测试集文件夹\n",
    "        image_filename = os.path.join(test_image_folder, f\"test_{i + 1:06d}.jpg\")\n",
    "        cv2.imwrite(image_filename, img)\n",
    "        \n",
    "        # 将标签保存到测试集标签文件中\n",
    "        test_label_file.write(f\"{y_test[i]}\\n\")  # 每个标签占一行"
   ]
  },
  {
   "cell_type": "code",
   "execution_count": null,
   "id": "05ac57a4-6ad0-4718-8f89-0e12002dd819",
   "metadata": {},
   "outputs": [],
   "source": []
  }
 ],
 "metadata": {
  "kernelspec": {
   "display_name": "pytorch",
   "language": "python",
   "name": "pytorch"
  },
  "language_info": {
   "codemirror_mode": {
    "name": "ipython",
    "version": 3
   },
   "file_extension": ".py",
   "mimetype": "text/x-python",
   "name": "python",
   "nbconvert_exporter": "python",
   "pygments_lexer": "ipython3",
   "version": "3.12.3"
  }
 },
 "nbformat": 4,
 "nbformat_minor": 5
}
